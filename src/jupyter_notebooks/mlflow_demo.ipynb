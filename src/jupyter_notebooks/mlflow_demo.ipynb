{
 "cells": [
  {
   "cell_type": "code",
   "execution_count": 1,
   "id": "f1a9484f-84ec-469a-9198-b47d64ca1d0f",
   "metadata": {},
   "outputs": [],
   "source": [
    "import mlflow\n",
    "import mlflow.sklearn\n",
    "from sklearn.datasets import load_iris\n",
    "from sklearn.model_selection import train_test_split\n",
    "from sklearn.ensemble import RandomForestClassifier\n",
    "from sklearn.metrics import accuracy_score\n",
    "\n",
    "\n",
    "mlflow.set_tracking_uri(\"http://mlflow_container_ui:8000\")"
   ]
  },
  {
   "cell_type": "code",
   "execution_count": 2,
   "id": "3453f51f-c8f9-4c19-88dd-2275f36851f1",
   "metadata": {},
   "outputs": [
    {
     "name": "stdout",
     "output_type": "stream",
     "text": [
      "[*] minio url:  s3:9000\n",
      "S3 operation failed; code: BucketAlreadyOwnedByYou, message: Your previous request to create the named bucket succeeded and you already own it., resource: /mlflow, request_id: 1791F0498C358285, host_id: 8619ae71-13bb-41e9-aae4-498c9d3c6847, bucket_name: mlflow\n",
      "buckercreated: mlflow\n"
     ]
    }
   ],
   "source": [
    "import os\n",
    "\n",
    "from minio import Minio\n",
    "from minio.error import InvalidResponseError, S3Error\n",
    "\n",
    "accessID = os.environ.get('AWS_ACCESS_KEY_ID')\n",
    "accessSecret =  os.environ.get('AWS_SECRET_ACCESS_KEY')\n",
    "minioUrl =  os.environ.get('MLFLOW_S3_ENDPOINT_URL')\n",
    "bucketName =  os.environ.get('AWS_BUCKET_NAME')\n",
    "\n",
    "if  None in (accessID, accessSecret, minioUrl, bucketName):\n",
    "    print(\"\"\"\n",
    "        [!] environment variable is empty! run \\'source .env\\' to load it from the .env file\n",
    "        AWS_ACCESS_KEY_ID=\n",
    "        AWS_SECRET_ACCESS_KEY=\n",
    "        MLFLOW_S3_ENDPOINT_URL=\n",
    "        AWS_BUCKET_NAME=\n",
    "    \"\"\" % (accessID, accessSecret, minioUrl, bucketName))\n",
    "    raise RuntimeError\n",
    "\n",
    "minioUrlHostWithPort = minioUrl.split('//')[1]\n",
    "print('[*] minio url: ',minioUrlHostWithPort)\n",
    "\n",
    "s3Client = Minio(\n",
    "    minioUrlHostWithPort,\n",
    "    access_key=accessID,\n",
    "    secret_key=accessSecret,\n",
    "    secure=False\n",
    ")\n",
    "\n",
    "try:\n",
    "    s3Client.make_bucket(bucketName)\n",
    "except S3Error as e:\n",
    "    print(e)\n",
    "\n",
    "print(f\"buckercreated: {bucketName}\")"
   ]
  },
  {
   "cell_type": "code",
   "execution_count": 6,
   "id": "e836c8a0-f3aa-4a46-802f-e938a463e44f",
   "metadata": {},
   "outputs": [
    {
     "name": "stdout",
     "output_type": "stream",
     "text": [
      "RESOURCE_ALREADY_EXISTS: Experiment(name=final_experiment) already exists. Error: (raised as a result of Query-invoked autoflush; consider using a session.no_autoflush block if this flush is occurring prematurely)\n",
      "(sqlite3.IntegrityError) UNIQUE constraint failed: experiments.name\n",
      "[SQL: INSERT INTO experiments (name, artifact_location, lifecycle_stage, creation_time, last_update_time) VALUES (?, ?, ?, ?, ?)]\n",
      "[parameters: ('final_experiment', '', 'active', 1698402783310, 1698402783310)]\n",
      "(Background on this error at: https://sqlalche.me/e/20/gkpj)\n"
     ]
    }
   ],
   "source": [
    "from mlflow.exceptions import RestException\n",
    "\n",
    "experiment_name = \"final_experiment\"\n",
    "\n",
    "try:\n",
    "    experiment_id = mlflow.create_experiment(experiment_name)\n",
    "except RestException as e:\n",
    "    print(e)\n",
    "    experiment = mlflow.get_experiment_by_name(experiment_name)\n",
    "\n",
    "experiment_id = experiment.experiment_id"
   ]
  },
  {
   "cell_type": "code",
   "execution_count": 7,
   "id": "f2680813-a489-4936-b94e-fc41902d2694",
   "metadata": {},
   "outputs": [
    {
     "name": "stdout",
     "output_type": "stream",
     "text": [
      "s3://mlflow/3/ec0c15f4c58740f4b776523534fb28c7/artifacts\n",
      "Load the Iris dataset and training classifier\n",
      "Log the model to S3\n"
     ]
    }
   ],
   "source": [
    "with mlflow.start_run(run_name=\"last_run\", experiment_id=experiment_id):\n",
    "    artifact_uri = mlflow.get_artifact_uri()\n",
    "    print(artifact_uri)\n",
    "    print('Load the Iris dataset and training classifier')\n",
    "    data = load_iris()\n",
    "    X, y = data.data, data.target\n",
    "\n",
    "    # Split the data into training and testing sets\n",
    "    X_train, X_test, y_train, y_test = train_test_split(X, y, test_size=0.2, random_state=42)\n",
    "\n",
    "    # Create and train a random forest classifier\n",
    "    model = RandomForestClassifier(n_estimators=100)\n",
    "    model.fit(X_train, y_train)\n",
    "\n",
    "    # Make predictions\n",
    "    y_pred = model.predict(X_test)\n",
    "\n",
    "    # Calculate and log accuracy\n",
    "    accuracy = accuracy_score(y_test, y_pred)\n",
    "    mlflow.log_metric(\"accuracy\", accuracy)\n",
    "\n",
    "    print('Log the model to S3')\n",
    "    mlflow.sklearn.log_model(model, \"model\")\n",
    "    mlflow.log_artifact('/srv/data/random_forest_model.joblib') # , artifact_path = \"model\"\n"
   ]
  },
  {
   "cell_type": "code",
   "execution_count": 16,
   "id": "7173556f-6a26-4aa9-8251-51f2745c583d",
   "metadata": {},
   "outputs": [
    {
     "data": {
      "text/plain": [
       "['/srv/data/random_forest_model.joblib']"
      ]
     },
     "execution_count": 16,
     "metadata": {},
     "output_type": "execute_result"
    }
   ],
   "source": [
    "import joblib\n",
    "\n",
    "model_directory = \"/srv/data\"\n",
    "model_filename = \"random_forest_model.joblib\"\n",
    "\n",
    "model_path = f\"{model_directory}/{model_filename}\"\n",
    "\n",
    "joblib.dump(model, model_path)"
   ]
  },
  {
   "cell_type": "code",
   "execution_count": null,
   "id": "42c758ee-2e55-4051-a3e1-543c4f281ba0",
   "metadata": {},
   "outputs": [],
   "source": []
  }
 ],
 "metadata": {
  "kernelspec": {
   "display_name": "Python 3 (ipykernel)",
   "language": "python",
   "name": "python3"
  },
  "language_info": {
   "codemirror_mode": {
    "name": "ipython",
    "version": 3
   },
   "file_extension": ".py",
   "mimetype": "text/x-python",
   "name": "python",
   "nbconvert_exporter": "python",
   "pygments_lexer": "ipython3",
   "version": "3.11.6"
  }
 },
 "nbformat": 4,
 "nbformat_minor": 5
}
